{
 "cells": [
  {
   "cell_type": "markdown",
   "source": [
    "# Hand written digits recognition using neural network built from scratch in numpy\n",
    "After a while of learning about neural networks I decided to build one from scratch in numpy. I chose to use MNIST dataset as it is a good starting point for beginners. I will use 3 layer neural network with relu activation function and softmax output layer. In between of Python code I'll try to derive the formulas for backpropagation and explain the code for my own understanding."
   ],
   "metadata": {
    "collapsed": false
   }
  },
  {
   "cell_type": "markdown",
   "source": [
    "## Importing libraries\n",
    "The list will probably grow as I go through the project"
   ],
   "metadata": {
    "collapsed": false
   }
  },
  {
   "cell_type": "code",
   "execution_count": 648,
   "outputs": [],
   "source": [
    "import gzip\n",
    "import os\n",
    "from urllib.request import urlretrieve\n",
    "import numpy as np\n",
    "import math"
   ],
   "metadata": {
    "collapsed": false
   }
  },
  {
   "cell_type": "markdown",
   "source": [
    "## Getting THE dataset\n",
    "This piece of code was shamelessly copied from [Matt Petersen's blog](https://mattpetersen.github.io/load-mnist-with-numpy).\n",
    "The function looks for the dataset in the specified directory and if it's not there it downloads it from [Yann LeCun's website](http://yann.lecun.com/exdb/mnist/). The function returns 4 numpy arrays: training images, training labels, test images and test labels. The images are flattened to 784 pixels (28x28) and the labels are one hot encoded (Whatever that means, will have to figure it out)."
   ],
   "metadata": {
    "collapsed": false
   }
  },
  {
   "cell_type": "code",
   "execution_count": 649,
   "outputs": [],
   "source": [
    "def mnist(path=None):\n",
    "    r\"\"\"Return (train_images, train_labels, test_images, test_labels).\n",
    "\n",
    "    Args:\n",
    "        path (str): Directory containing MNIST. Default is\n",
    "            /home/USER/data/mnist or C:\\Users\\USER\\data\\mnist.\n",
    "            Create if nonexistant. Download any missing files.\n",
    "\n",
    "    Returns:\n",
    "        Tuple of (train_images, train_labels, test_images, test_labels), each\n",
    "            a matrix. Rows are examples. Columns of images are pixel values.\n",
    "            Columns of labels are a onehot encoding of the correct class.\n",
    "    \"\"\"\n",
    "    url = 'http://yann.lecun.com/exdb/mnist/'\n",
    "    files = ['train-images-idx3-ubyte.gz',\n",
    "             'train-labels-idx1-ubyte.gz',\n",
    "             't10k-images-idx3-ubyte.gz',\n",
    "             't10k-labels-idx1-ubyte.gz']\n",
    "\n",
    "    if path is None:\n",
    "        # Set path to /home/USER/data/mnist or C:\\Users\\USER\\data\\mnist\n",
    "        path = os.path.join(os.path.expanduser('~'), 'data', 'mnist')\n",
    "\n",
    "    # Create path if it doesn't exist\n",
    "    os.makedirs(path, exist_ok=True)\n",
    "\n",
    "    # Download any missing files\n",
    "    for file in files:\n",
    "        if file not in os.listdir(path):\n",
    "            urlretrieve(url + file, os.path.join(path, file))\n",
    "            print(\"Downloaded %s to %s\" % (file, path))\n",
    "\n",
    "    def _images(path):\n",
    "        \"\"\"Return images loaded locally.\"\"\"\n",
    "        with gzip.open(path) as f:\n",
    "            # First 16 bytes are magic_number, n_imgs, n_rows, n_cols\n",
    "            pixels = np.frombuffer(f.read(), 'B', offset=16)\n",
    "        return pixels.reshape(-1, 784).astype('float32') / 255\n",
    "\n",
    "    def _labels(path):\n",
    "        \"\"\"Return labels loaded locally.\"\"\"\n",
    "        with gzip.open(path) as f:\n",
    "            # First 8 bytes are magic_number, n_labels\n",
    "            integer_labels = np.frombuffer(f.read(), 'B', offset=8)\n",
    "\n",
    "        def _onehot(integer_labels):\n",
    "            \"\"\"Return matrix whose rows are onehot encodings of integers.\"\"\"\n",
    "            n_rows = len(integer_labels)\n",
    "            n_cols = integer_labels.max() + 1\n",
    "            onehot = np.zeros((n_rows, n_cols), dtype='uint8')\n",
    "            onehot[np.arange(n_rows), integer_labels] = 1\n",
    "            return onehot\n",
    "\n",
    "        return _onehot(integer_labels)\n",
    "\n",
    "    train_images = _images(os.path.join(path, files[0]))\n",
    "    train_labels = _labels(os.path.join(path, files[1]))\n",
    "    test_images = _images(os.path.join(path, files[2]))\n",
    "    test_labels = _labels(os.path.join(path, files[3]))\n",
    "\n",
    "    return train_images, train_labels, test_images, test_labels\n",
    "\n",
    "# https://mattpetersen.github.io/load-mnist-with-numpy"
   ],
   "metadata": {
    "collapsed": false
   }
  },
  {
   "cell_type": "code",
   "execution_count": 650,
   "outputs": [],
   "source": [
    "x_train, y_train, x_test, y_test = mnist(\"/Users/michal/PycharmProjects/digits_detection/mnist_data\")"
   ],
   "metadata": {
    "collapsed": false
   }
  },
  {
   "cell_type": "markdown",
   "source": [
    "## Preparing the data\n",
    "Checking the dimensions to make sure they are structured as I want them to be. We want the examples to be in columns and the features in rows. The labels should be in one hot encoded format."
   ],
   "metadata": {
    "collapsed": false
   }
  },
  {
   "cell_type": "code",
   "execution_count": 651,
   "outputs": [
    {
     "name": "stdout",
     "output_type": "stream",
     "text": [
      "(60000, 784) (60000, 10) (10000, 784) (10000, 10)\n"
     ]
    }
   ],
   "source": [
    "print(x_train.shape, y_train.shape, x_test.shape, y_test.shape)"
   ],
   "metadata": {
    "collapsed": false
   }
  },
  {
   "cell_type": "markdown",
   "source": [
    "Looks like that's not the case, so we need to do the flippy flip thing (aka transpose)."
   ],
   "metadata": {
    "collapsed": false
   }
  },
  {
   "cell_type": "code",
   "execution_count": 652,
   "outputs": [
    {
     "name": "stdout",
     "output_type": "stream",
     "text": [
      "(784, 60000) (10, 60000) (784, 10000) (10, 10000)\n"
     ]
    }
   ],
   "source": [
    "x_train = x_train.T\n",
    "x_test = x_test.T\n",
    "y_train = y_train.T\n",
    "y_test = y_test.T\n",
    "# stacked the examples in columns\n",
    "\n",
    "print(x_train.shape, y_train.shape, x_test.shape, y_test.shape)"
   ],
   "metadata": {
    "collapsed": false
   }
  },
  {
   "cell_type": "markdown",
   "source": [
    "Dialed."
   ],
   "metadata": {
    "collapsed": false
   }
  },
  {
   "cell_type": "markdown",
   "source": [
    "## Building the model\n",
    "The model will be a 3 layer neural network with relu activation function and softmax output layer. At least that's the plan for now."
   ],
   "metadata": {
    "collapsed": false
   }
  },
  {
   "cell_type": "markdown",
   "source": [
    "Time to initialize the parameters. It's kind of a big deal, because it can make me cry later when I try to train the model, and it doesn't work. In general, we don't want to initialize them to zeros. When using softmax it will lead to all classes having the same probability which is no different from guessing. The weights cannot also be too large because it will lead to exploding gradients. The weights cannot be too small because it will lead to vanishing gradients. The biases can be initialized to zeros.\n",
    "Therefore, I will use He initialization as it is recommended (for relu activation function) by some smart people.\n",
    "[He paper](https://doi.org/10.48550/arXiv.1502.01852)."
   ],
   "metadata": {
    "collapsed": false
   }
  },
  {
   "cell_type": "code",
   "execution_count": 653,
   "outputs": [],
   "source": [
    "def initialize_parameters_he(layers_dim):\n",
    "    parameters = dict()\n",
    "    L = len(layers_dim) - 1 # number of layers, subtracting one because in layers_dim\n",
    "    # we also specify the dimension of input layer, used to initialize W1\n",
    "\n",
    "    for l in range(1, L + 1):\n",
    "        parameters[\"W\" + str(l)] = np.random.randn(layers_dim[l], layers_dim[l - 1]) * np.sqrt(2. / layers_dim[l-1])\n",
    "        parameters[\"b\" + str(l)] = np.zeros((layers_dim[l], 1))\n",
    "\n",
    "    return parameters"
   ],
   "metadata": {
    "collapsed": false
   }
  },
  {
   "cell_type": "markdown",
   "source": [
    "## Relu\n",
    "We need to define the Relu activation function and its derivative. The non-linear functions like Relu are used to make the model more expressive. Without them, the model would be just a linear function of the input, since the linear combination of linear functions is still a linear function.\n",
    "$$ Relu(x) = \\max(0, x) $$\n"
   ],
   "metadata": {
    "collapsed": false
   }
  },
  {
   "cell_type": "code",
   "execution_count": 654,
   "outputs": [],
   "source": [
    "def relu(Z):\n",
    "    return np.maximum(Z, 0)"
   ],
   "metadata": {
    "collapsed": false
   }
  },
  {
   "cell_type": "markdown",
   "source": [
    "## Relu derivative\n",
    "Since the Relu is a linear function for positive values, its derivative is 1 for positive values and 0 for negative values. For 0 its derivative is undefined, but we will commit a sin and say it's 0. (sorry math gods)"
   ],
   "metadata": {
    "collapsed": false
   }
  },
  {
   "cell_type": "code",
   "execution_count": 655,
   "outputs": [],
   "source": [
    "def relu_derivative(Z):\n",
    "    return np.where(Z > 0, 1, 0)"
   ],
   "metadata": {
    "collapsed": false
   }
  },
  {
   "cell_type": "markdown",
   "source": [
    "## Softmax\n",
    "The softmax function is used in the output layer of the neural network to get the probabilities of the classes. It is defined as:\n",
    "$$ S(z)_j = \\frac{e^{z_j}}{\\sum_{k=1}^{K} e^{z_k}} $$\n",
    "where $z$ is the output of the last layer, $j$ is the index of the class and $K$ is the number of classes."
   ],
   "metadata": {
    "collapsed": false
   }
  },
  {
   "cell_type": "code",
   "execution_count": 656,
   "outputs": [],
   "source": [
    "def softmax(Z):\n",
    "    return np.exp(Z) / np.sum(np.exp(Z), axis=0)"
   ],
   "metadata": {
    "collapsed": false
   }
  },
  {
   "cell_type": "markdown",
   "source": [
    "## Forward propagation\n",
    "It is basically a process of putting what previous layer outputs into the next layer. The output of the last layer is the output of the whole network. We will also cache the values of the linear combinations and activations of each layer, because we will need them later for backpropagation."
   ],
   "metadata": {
    "collapsed": false
   }
  },
  {
   "cell_type": "code",
   "execution_count": 657,
   "outputs": [],
   "source": [
    "# X=A0 -> linear = Z1 -> relu = A1 -> linear = Z2 -> relu = A2 -> linear = Z3 -> softmax = A3\n",
    "def forward_propagation(x, parameters):\n",
    "    W1 = parameters[\"W1\"]\n",
    "    b1 = parameters[\"b1\"]\n",
    "    W2 = parameters[\"W2\"]\n",
    "    b2 = parameters[\"b2\"]\n",
    "    W3 = parameters[\"W3\"]\n",
    "    b3 = parameters[\"b3\"]\n",
    "\n",
    "    Z1 = np.dot(W1, x) + b1\n",
    "    A1 = relu(Z1)\n",
    "    Z2 = np.dot(W2, A1) + b2\n",
    "    A2 = relu(Z2)\n",
    "    Z3 = np.dot(W3, A2) + b3\n",
    "    A3 = softmax(Z3)\n",
    "\n",
    "    cache = (Z1, A1, W1, b1, Z2, A2, W2, b2, Z3, A3, W3, b3)\n",
    "\n",
    "    return A3, cache"
   ],
   "metadata": {
    "collapsed": false
   }
  },
  {
   "cell_type": "markdown",
   "source": [
    "## THE Backpropagation\n",
    "In this process we want to find out how to change each parameter in each layer to minimize the cost function. We will use the chain rule to calculate the derivatives of the cost function with respect to each parameter. We will also use the derivatives of the activation functions and cost function.\n",
    "\n",
    "### Cost function\n",
    "We will use the cross entropy cost function.\n",
    "$$ J =  \\sum_{k=1}^{K} y_k^{(i)} \\log(\\hat{y}_k^{(i)}) $$\n",
    "$K$ is the number of classes, $y$ is the true label and $\\hat{y}$ is the predicted label.\n",
    "\n",
    "### Derivative of the cost function\n",
    "$$ \\frac{\\partial J}{\\partial Z^{[L]}} = A^{[L]} - Y $$\n",
    "\n",
    "### Derivatives for our model\n",
    "Basically making heavy use of the chain rule to get the derivatives of the cost function with respect to each parameter.\n",
    "\n",
    "$$\n",
    "\\[\n",
    "\\frac{\\partial \\mathcal{L}}{\\partial Z^{(3)}} = A^{(3)} - Y\n",
    "\\]\n",
    "$$$$\n",
    "\\[\n",
    "\\frac{\\partial \\mathcal{L}}{\\partial W^{(3)}} = (A^{(2)})^T \\cdot \\frac{\\partial \\mathcal{L}}{\\partial Z^{(3)}}\n",
    "\\]\n",
    "$$$$\n",
    "\\[\n",
    "\\frac{\\partial \\mathcal{L}}{\\partial b^{(3)}} = \\text{sum}\\left(\\frac{\\partial \\mathcal{L}}{\\partial Z^{(3)}}\\right)\n",
    "\\]\n",
    "$$\n",
    "$$\n",
    "\n",
    "\\[\n",
    "\\frac{\\partial \\mathcal{L}}{\\partial Z^{(2)}} = \\frac{\\partial \\mathcal{L}}{\\partial Z^{(3)}} \\cdot (W^{(3)})^T \\odot \\text{ReLU}'(Z^{(2)})\n",
    "\\]\n",
    "$$$$\n",
    "\\[\n",
    "\\frac{\\partial \\mathcal{L}}{\\partial W^{(2)}} = (A^{(1)})^T \\cdot \\frac{\\partial \\mathcal{L}}{\\partial Z^{(2)}}\n",
    "\\]\n",
    "$$$$\n",
    "\\[\n",
    "\\frac{\\partial \\mathcal{L}}{\\partial b^{(2)}} = \\text{sum}\\left(\\frac{\\partial \\mathcal{L}}{\\partial Z^{(2)}}\\right)\n",
    "\\]\n",
    "$$$$\n",
    "$$$$\n",
    "\\[\n",
    "\\frac{\\partial \\mathcal{L}}{\\partial Z^{(1)}} = \\frac{\\partial \\mathcal{L}}{\\partial Z^{(2)}} \\cdot (W^{(2)})^T \\odot \\text{ReLU}'(Z^{(1)})\n",
    "\\]\n",
    "$$$$\n",
    "\\[\n",
    "\\frac{\\partial \\mathcal{L}}{\\partial W^{(1)}} = X^T \\cdot \\frac{\\partial \\mathcal{L}}{\\partial Z^{(1)}}\n",
    "\\]\n",
    "$$$$\n",
    "\\[\n",
    "\\frac{\\partial \\mathcal{L}}{\\partial b^{(1)}} = \\text{sum}\\left(\\frac{\\partial \\mathcal{L}}{\\partial Z^{(1)}}\\right)\n",
    "\\]\n",
    " $$"
   ],
   "metadata": {
    "collapsed": false
   }
  },
  {
   "cell_type": "code",
   "execution_count": 658,
   "outputs": [],
   "source": [
    "def backward_propagation(cache, x, y):\n",
    "    m = x.shape[1]\n",
    "\n",
    "    (Z1, A1, W1, b1, Z2, A2, W2, b2, Z3, A3, W3, b3) = cache\n",
    "\n",
    "    dZ3 = A3 - y\n",
    "    dW3 = (1. / m) * np.dot(dZ3, A2.T)\n",
    "    db3 = (1. / m) * np.sum(dZ3, axis=1, keepdims=True)\n",
    "\n",
    "    dA2 = np.dot(W3.T, dZ3)\n",
    "    dZ2 = np.multiply(dA2, relu_derivative(Z2))\n",
    "    dW2 = (1. / m) * np.dot(dZ2, A1.T)\n",
    "    db2 = (1. / m) * np.sum(dZ2, axis=1, keepdims=True)\n",
    "\n",
    "    dA1 = np.dot(W2.T, dZ2)\n",
    "    dZ1 = np.multiply(dA1, relu_derivative(Z1))\n",
    "    dW1 = (1. / m) * np.dot(dZ1, x.T)\n",
    "    db1 = (1. / m) * np.sum(dZ1, axis=1, keepdims=True)\n",
    "\n",
    "    gradients = {\"dZ3\": dZ3, \"dW3\": dW3, \"db3\": db3,\n",
    "                 \"dA2\": dA2, \"dZ2\": dZ2, \"dW2\": dW2, \"db2\": db2,\n",
    "                 \"dA1\": dA1, \"dZ1\": dZ1, \"dW1\": dW1, \"db1\": db1}\n",
    "\n",
    "    return gradients"
   ],
   "metadata": {
    "collapsed": false
   }
  },
  {
   "cell_type": "markdown",
   "source": [
    "## Updating parameters"
   ],
   "metadata": {
    "collapsed": false
   }
  },
  {
   "cell_type": "code",
   "execution_count": 659,
   "outputs": [],
   "source": [
    "def update_parameters(parameters, gradients, learning_rate):\n",
    "    L = len(parameters) // 2\n",
    "\n",
    "    for l in range(1, L + 1):\n",
    "        parameters[\"W\" + str(l)] = parameters[\"W\" + str(l)] - learning_rate * gradients[\"dW\" + str(l)]\n",
    "        parameters[\"b\" + str(l)] = parameters[\"b\" + str(l)] - learning_rate * gradients[\"db\" + str(l)]\n",
    "\n",
    "    return parameters"
   ],
   "metadata": {
    "collapsed": false
   }
  },
  {
   "cell_type": "markdown",
   "source": [
    "### Adam\n",
    "Combines RMSprop and momentum. It uses the squared gradients to scale the learning rate like RMSprop and it takes advantage of momentum by using moving average of the gradient instead of gradient itself like momentum.\n"
   ],
   "metadata": {
    "collapsed": false
   }
  },
  {
   "cell_type": "code",
   "execution_count": 660,
   "outputs": [],
   "source": [
    "def initialize_adam(parameters) :\n",
    "\n",
    "    L = len(parameters) // 2 # number of layers in the neural networks\n",
    "    v = {}\n",
    "    s = {}\n",
    "\n",
    "\n",
    "    for l in range(1, L + 1):\n",
    "\n",
    "\n",
    "        v[\"dW\" + str(l)] = np.zeros(parameters[\"W\" + str(l)].shape)\n",
    "        v[\"db\" + str(l)] = np.zeros(parameters[\"b\" + str(l)].shape)\n",
    "        s[\"dW\" + str(l)] = np.zeros(parameters[\"W\" + str(l)].shape)\n",
    "        s[\"db\" + str(l)] = np.zeros(parameters[\"b\" + str(l)].shape)\n",
    "\n",
    "    return v, s"
   ],
   "metadata": {
    "collapsed": false
   }
  },
  {
   "cell_type": "code",
   "execution_count": 661,
   "outputs": [],
   "source": [
    "def update_parameters_with_adam(parameters, grads, v, s, t, learning_rate = 0.01,\n",
    "                                beta1 = 0.9, beta2 = 0.999,  epsilon = 1e-8):\n",
    "\n",
    "    L = len(parameters) // 2                 # number of layers in the neural networks\n",
    "    v_corrected = {}                         # Initializing first moment estimate, python dictionary\n",
    "    s_corrected = {}                         # Initializing second moment estimate, python dictionary\n",
    "\n",
    "    # Perform Adam update on all parameters\n",
    "    for l in range(1, L + 1):\n",
    "\n",
    "        v[\"dW\" + str(l)] = beta1 * v[\"dW\" + str(l)] + (1 - beta1) * grads[\"dW\" + str(l)]\n",
    "        v[\"db\" + str(l)] = beta1 * v[\"db\" + str(l)] + (1 - beta1) * grads[\"db\" + str(l)]\n",
    "\n",
    "\n",
    "        v_corrected[\"dW\" + str(l)] = v[\"dW\" + str(l)] / (1 - beta1**t)\n",
    "        v_corrected[\"db\" + str(l)] = v[\"db\" + str(l)] / (1 - beta1**t)\n",
    "\n",
    "        s[\"dW\" + str(l)] = beta2 * s[\"dW\" + str(l)] + (1 - beta2) * (grads[\"dW\" + str(l)])**2\n",
    "        s[\"db\" + str(l)] = beta2 * s[\"db\" + str(l)] + (1 - beta2) * (grads[\"db\" + str(l)])**2\n",
    "\n",
    "        s_corrected[\"dW\" + str(l)] = s[\"dW\" + str(l)] / (1 - beta2**t)\n",
    "        s_corrected[\"db\" + str(l)] = s[\"db\" + str(l)] / (1 - beta2**t)\n",
    "\n",
    "\n",
    "        parameters[\"W\" + str(l)] = parameters[\"W\" + str(l)] - learning_rate * (v_corrected[\"dW\" + str(l)]/(np.sqrt(s_corrected[\"dW\" + str(l)]) + epsilon))\n",
    "        parameters[\"b\" + str(l)] = parameters[\"b\" + str(l)] - learning_rate * (v_corrected[\"db\" + str(l)]/(np.sqrt(s_corrected[\"db\" + str(l)]) + epsilon))\n",
    "\n",
    "    return parameters, v, s"
   ],
   "metadata": {
    "collapsed": false
   }
  },
  {
   "cell_type": "code",
   "execution_count": 662,
   "outputs": [],
   "source": [
    "def generate_mini_batches(x, y, mini_batch_size=64):\n",
    "    m = x.shape[1]\n",
    "    mini_batches = []\n",
    "    permutation = list(np.random.permutation(m))\n",
    "    shuffled_x = x[:, permutation]\n",
    "    shuffled_y = y[:, permutation]\n",
    "\n",
    "    num_complete_minibatches = math.floor(m / mini_batch_size)\n",
    "    for k in range(0, num_complete_minibatches):\n",
    "        mini_batch_x = shuffled_x[:, k * mini_batch_size: (k + 1) * mini_batch_size]\n",
    "        mini_batch_y = shuffled_y[:, k * mini_batch_size: (k + 1) * mini_batch_size]\n",
    "        mini_batch = (mini_batch_x, mini_batch_y)\n",
    "        mini_batches.append(mini_batch)\n",
    "\n",
    "    if m % mini_batch_size != 0:\n",
    "        mini_batch_x = shuffled_x[:, num_complete_minibatches * mini_batch_size:]\n",
    "        mini_batch_y = shuffled_y[:, num_complete_minibatches * mini_batch_size:]\n",
    "        mini_batch = (mini_batch_x, mini_batch_y)\n",
    "        mini_batches.append(mini_batch)\n",
    "\n",
    "    return mini_batches"
   ],
   "metadata": {
    "collapsed": false
   }
  },
  {
   "cell_type": "code",
   "execution_count": 663,
   "outputs": [],
   "source": [
    "def schedule_lr_decay(learning_rate0, epoch_num, decay_rate, time_interval=100):\n",
    "    learning_rate = 1 / (1 + decay_rate * np.floor(epoch_num / time_interval)) * learning_rate0\n",
    "    return learning_rate"
   ],
   "metadata": {
    "collapsed": false
   }
  },
  {
   "cell_type": "code",
   "execution_count": 664,
   "outputs": [],
   "source": [
    "def model(X, Y, layers_dims, optimizer, learning_rate = 0.0007, mini_batch_size = 64,\n",
    "          beta1 = 0.9, beta2 = 0.999,  epsilon = 1e-8, num_epochs = 5000, decay = False, decay_rate = 0.3):\n",
    "\n",
    "\n",
    "    t = 0\n",
    "    parameters = initialize_parameters_he(layers_dims)\n",
    "    learning_rate0 = learning_rate\n",
    "\n",
    "    if optimizer == \"gd\":\n",
    "        pass\n",
    "    elif optimizer == \"adam\":\n",
    "        v, s = initialize_adam(parameters)\n",
    "\n",
    "    for i in range(num_epochs):\n",
    "        minibatches = generate_mini_batches(X, Y, mini_batch_size)\n",
    "\n",
    "        for minibatch in minibatches:\n",
    "\n",
    "            # Select a minibatch\n",
    "            (minibatch_X, minibatch_Y) = minibatch\n",
    "\n",
    "            # Forward propagation\n",
    "            a3, caches = forward_propagation(minibatch_X, parameters)\n",
    "\n",
    "            # Backward propagation\n",
    "            grads = backward_propagation(caches, minibatch_X, minibatch_Y)\n",
    "\n",
    "            # Update parameters\n",
    "            if optimizer == \"gd\":\n",
    "                parameters = update_parameters(parameters, grads, learning_rate)\n",
    "            elif optimizer == \"adam\":\n",
    "                t = t + 1 # Adam counter\n",
    "                parameters, v, s  = update_parameters_with_adam(parameters, grads, v, s, t, learning_rate, beta1, beta2,  epsilon)\n",
    "        if decay:\n",
    "            learning_rate = schedule_lr_decay(learning_rate0, i, decay_rate)\n",
    "\n",
    "    return parameters"
   ],
   "metadata": {
    "collapsed": false
   }
  },
  {
   "cell_type": "code",
   "execution_count": 703,
   "outputs": [],
   "source": [
    "def predict(x, parameters):\n",
    "    A3, _ = forward_propagation(x, parameters)\n",
    "    predictions = np.argmax(A3, axis=0)\n",
    "    return predictions"
   ],
   "metadata": {
    "collapsed": false
   }
  },
  {
   "cell_type": "code",
   "execution_count": 666,
   "outputs": [],
   "source": [
    "layers_dims = [784, 20, 20,10]"
   ],
   "metadata": {
    "collapsed": false
   }
  },
  {
   "cell_type": "code",
   "execution_count": 667,
   "outputs": [],
   "source": [
    "model_1 = model(x_train, y_train, layers_dims, optimizer=\"gd\", learning_rate=0.0007, mini_batch_size=256, num_epochs=1000, decay=False, decay_rate=0.3)"
   ],
   "metadata": {
    "collapsed": false
   }
  },
  {
   "cell_type": "code",
   "execution_count": 668,
   "outputs": [],
   "source": [
    "model_2 = model(x_train, y_train, layers_dims, optimizer=\"adam\", learning_rate=0.0007, mini_batch_size=256, num_epochs=1000, decay=False, decay_rate=0.3)"
   ],
   "metadata": {
    "collapsed": false
   }
  },
  {
   "cell_type": "code",
   "execution_count": 669,
   "outputs": [],
   "source": [
    "model_3 = model(x_train, y_train, layers_dims, optimizer=\"adam\", learning_rate=0.0007, mini_batch_size=256, num_epochs=1000, decay=True, decay_rate=0.3)"
   ],
   "metadata": {
    "collapsed": false
   }
  },
  {
   "cell_type": "code",
   "execution_count": 670,
   "outputs": [],
   "source": [
    "model_4 = model(x_train, y_train, layers_dims, optimizer=\"adam\", learning_rate=0.002, mini_batch_size=256, num_epochs=1000, decay=True, decay_rate=0.5)"
   ],
   "metadata": {
    "collapsed": false
   }
  },
  {
   "cell_type": "code",
   "execution_count": 679,
   "outputs": [],
   "source": [
    "model_5 = model(x_train, y_train, layers_dims, optimizer=\"adam\", learning_rate=0.004, mini_batch_size=256, num_epochs=200, decay=True, decay_rate=0.5)"
   ],
   "metadata": {
    "collapsed": false
   }
  },
  {
   "cell_type": "code",
   "execution_count": 682,
   "outputs": [],
   "source": [
    "model_6 = model(x_train, y_train, layers_dims, optimizer=\"adam\", learning_rate=0.02, mini_batch_size=256, num_epochs=200, decay=True, decay_rate=0.5)"
   ],
   "metadata": {
    "collapsed": false
   }
  },
  {
   "cell_type": "code",
   "execution_count": 684,
   "outputs": [],
   "source": [
    "model_7 = model(x_train, y_train, layers_dims, optimizer=\"adam\", learning_rate=0.02, mini_batch_size=256, num_epochs=200, decay=True, decay_rate=0.2)"
   ],
   "metadata": {
    "collapsed": false
   }
  },
  {
   "cell_type": "code",
   "execution_count": 686,
   "outputs": [],
   "source": [
    "model_8 = model(x_train, y_train, layers_dims, optimizer=\"adam\", learning_rate=0.004, mini_batch_size=256, num_epochs=200, decay=True, decay_rate=0.2)"
   ],
   "metadata": {
    "collapsed": false
   }
  },
  {
   "cell_type": "code",
   "execution_count": 688,
   "outputs": [],
   "source": [
    "model_9 = model(x_train, y_train, layers_dims, optimizer=\"adam\", learning_rate=0.0007, mini_batch_size=256, num_epochs=200, decay=True, decay_rate=0.2)"
   ],
   "metadata": {
    "collapsed": false
   }
  },
  {
   "cell_type": "code",
   "execution_count": 690,
   "outputs": [],
   "source": [
    "model_10 = model(x_train, y_train, layers_dims, optimizer=\"adam\", learning_rate=0.0007, mini_batch_size=256, num_epochs=500, decay=True, decay_rate=0.2)"
   ],
   "metadata": {
    "collapsed": false
   }
  },
  {
   "cell_type": "code",
   "execution_count": 692,
   "outputs": [],
   "source": [
    "model_11 = model(x_train, y_train, layers_dims, optimizer=\"adam\", learning_rate=0.0007, mini_batch_size=256, num_epochs=200, decay=True, decay_rate=0.1)"
   ],
   "metadata": {
    "collapsed": false
   }
  },
  {
   "cell_type": "code",
   "execution_count": 694,
   "outputs": [],
   "source": [
    "model_12 = model(x_train, y_train, layers_dims, optimizer=\"adam\", learning_rate=0.00007, mini_batch_size=256, num_epochs=200, decay=True, decay_rate=0.3)"
   ],
   "metadata": {
    "collapsed": false
   }
  },
  {
   "cell_type": "markdown",
   "source": [
    "## Misclassified images"
   ],
   "metadata": {
    "collapsed": false
   }
  },
  {
   "cell_type": "code",
   "execution_count": 704,
   "outputs": [],
   "source": [
    "def misclassified_images(x, y, parameters):\n",
    "    predictions = predict(x, parameters)\n",
    "    misclassified = np.where(predictions != np.argmax(y, axis=0))\n",
    "    return misclassified"
   ],
   "metadata": {
    "collapsed": false
   }
  },
  {
   "cell_type": "code",
   "execution_count": 705,
   "outputs": [],
   "source": [
    "misclassified = misclassified_images(x_test, y_test, model_12)"
   ],
   "metadata": {
    "collapsed": false
   }
  },
  {
   "cell_type": "code",
   "execution_count": 710,
   "outputs": [
    {
     "data": {
      "text/plain": "<Figure size 432x288 with 1 Axes>",
      "image/png": "[encoded data removed]"
     },
     "metadata": {
      "needs_background": "light"
     },
     "output_type": "display_data"
    },
    {
     "data": {
      "text/plain": "<Figure size 432x288 with 1 Axes>",
      "image/png": "[encoded data removed]"
     },
     "metadata": {
      "needs_background": "light"
     },
     "output_type": "display_data"
    },
    {
     "data": {
      "text/plain": "<Figure size 432x288 with 1 Axes>",
      "image/png": "[encoded data removed]"
     },
     "metadata": {
      "needs_background": "light"
     },
     "output_type": "display_data"
    },
    {
     "data": {
      "text/plain": "<Figure size 432x288 with 1 Axes>",
      "image/png": "[encoded data removed]"
     },
     "metadata": {
      "needs_background": "light"
     },
     "output_type": "display_data"
    },
    {
     "data": {
      "text/plain": "<Figure size 432x288 with 1 Axes>",
      "image/png": "[encoded data removed]"
     },
     "metadata": {
      "needs_background": "light"
     },
     "output_type": "display_data"
    },
    {
     "data": {
      "text/plain": "<Figure size 432x288 with 1 Axes>",
      "image/png": "[encoded data removed]"
     },
     "metadata": {
      "needs_background": "light"
     },
     "output_type": "display_data"
    },
    {
     "data": {
      "text/plain": "<Figure size 432x288 with 1 Axes>",
      "image/png": "[encoded data removed]"
     },
     "metadata": {
      "needs_background": "light"
     },
     "output_type": "display_data"
    },
    {
     "data": {
      "text/plain": "<Figure size 432x288 with 1 Axes>",
      "image/png": "[encoded data removed]"
     },
     "metadata": {
      "needs_background": "light"
     },
     "output_type": "display_data"
    },
    {
     "data": {
      "text/plain": "<Figure size 432x288 with 1 Axes>",
      "image/png": "[encoded data removed]"
     },
     "metadata": {
      "needs_background": "light"
     },
     "output_type": "display_data"
    }
   ],
   "source": [
    "import matplotlib.pyplot as plt\n",
    "\n",
    "x_test_T = x_test.T\n",
    "y_test_T = y_test.T\n",
    "for i in range(250, 259):\n",
    "    plt.imshow(x_test_T[misclassified[0][i]].reshape(28, 28), cmap='gray')\n",
    "    plt.title(\"Predicted: \" + str(predict(x_test_T[misclassified[0][i]].reshape(784, 1), model_12)) + \"Actual: \" + str(np.argmax(y_test_T[misclassified[0][i]])))\n",
    "    plt.show()"
   ],
   "metadata": {
    "collapsed": false
   }
  },
  {
   "cell_type": "code",
   "execution_count": null,
   "outputs": [],
   "source": [],
   "metadata": {
    "collapsed": false
   }
  }
 ],
 "metadata": {
  "kernelspec": {
   "display_name": "Python 3",
   "language": "python",
   "name": "python3"
  },
  "language_info": {
   "codemirror_mode": {
    "name": "ipython",
    "version": 2
   },
   "file_extension": ".py",
   "mimetype": "text/x-python",
   "name": "python",
   "nbconvert_exporter": "python",
   "pygments_lexer": "ipython2",
   "version": "2.7.6"
  }
 },
 "nbformat": 4,
 "nbformat_minor": 0
}
